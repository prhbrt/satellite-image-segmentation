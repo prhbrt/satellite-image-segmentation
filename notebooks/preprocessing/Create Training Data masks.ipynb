{
 "cells": [
  {
   "cell_type": "code",
   "execution_count": 7,
   "metadata": {
    "colab": {
     "base_uri": "https://localhost:8080/",
     "height": 35
    },
    "colab_type": "code",
    "executionInfo": {
     "elapsed": 2186,
     "status": "ok",
     "timestamp": 1569418199360,
     "user": {
      "displayName": "FA colabeyeinthesky",
      "photoUrl": "",
      "userId": "02832569074306335484"
     },
     "user_tz": -120
    },
    "id": "-tdpc1johmE6",
    "outputId": "49127296-85db-46a5-b2b1-047c6fe25a5d"
   },
   "outputs": [
    {
     "name": "stdout",
     "output_type": "stream",
     "text": [
      "Mounted at /content/gdrive\n"
     ]
    }
   ],
   "source": [
    "from google.colab import drive\n",
    "\n",
    "drive.mount('/content/gdrive', force_remount=True)\n",
    "\n",
    "# root_path = '/content/gdrive/My Drive/Eye_in_the_sky/' # Leslie\n",
    "# root_path = '/content/gdrive/My Drive/Projects/2019/Eye_in_the_sky/' # Herbert\n",
    "\n",
    "root_path = '/content/gdrive/My Drive/Eye_in_the_sky/' # colabeyeinthesky@rug.nl\n",
    "\n",
    "experiment = '2019-09-23 Input for Training BAG-Model'\n",
    "\n",
    "version = 'v1'"
   ]
  },
  {
   "cell_type": "markdown",
   "metadata": {
    "colab_type": "text",
    "id": "nTLAmVJUoLUs"
   },
   "source": [
    "## Imports and settings\n",
    "\n",
    "In particular the location of the images, labels and where to put the masks."
   ]
  },
  {
   "cell_type": "code",
   "execution_count": 0,
   "metadata": {
    "colab": {},
    "colab_type": "code",
    "id": "G2Aw9moUibG8"
   },
   "outputs": [],
   "source": [
    "import sys\n",
    "sys.path.append(root_path)\n",
    "\n",
    "from eyeinthesky.masks import *\n",
    "from eyeinthesky.shapefiles import *\n",
    "from eyeinthesky.samples import get_samples\n",
    "\n",
    "from tqdm import tqdm_notebook as progressbar"
   ]
  },
  {
   "cell_type": "code",
   "execution_count": 0,
   "metadata": {
    "colab": {},
    "colab_type": "code",
    "id": "Jay8VoPNeHgy"
   },
   "outputs": [],
   "source": [
    "images_path = f'{root_path}Experiments/{experiment}/Images/'\n",
    "shapes_path = f'{root_path}Experiments/{experiment}/Labels/'\n",
    "masks_path = f'{root_path}Experiments/{experiment}/Masks/'\n",
    "industrial_zones_path = f'{root_path}Experiments/{experiment}/Industrial zones'\n",
    "\n",
    "industrial_zones_shape_path = f\"{root_path}/industrial zones/industrial_zones_wgs1984.shp\"\n",
    "\n",
    "assert len({\n",
    "    images_path, shapes_path,\n",
    "    masks_path, industrial_zones_path}) == 4, (\n",
    "   'Choose different locations for all, '\n",
    "   'otherwise the stuff can be overwritten.')"
   ]
  },
  {
   "cell_type": "code",
   "execution_count": 10,
   "metadata": {
    "colab": {
     "base_uri": "https://localhost:8080/",
     "height": 53
    },
    "colab_type": "code",
    "executionInfo": {
     "elapsed": 387,
     "status": "ok",
     "timestamp": 1569418199365,
     "user": {
      "displayName": "FA colabeyeinthesky",
      "photoUrl": "",
      "userId": "02832569074306335484"
     },
     "user_tz": -120
    },
    "id": "sTo-BsgUOPwH",
    "outputId": "1131823d-3f91-45b7-e7de-180a6b9055ac"
   },
   "outputs": [
    {
     "name": "stdout",
     "output_type": "stream",
     "text": [
      "All samples were in all folders.\n",
      "Found 15 samples.\n"
     ]
    }
   ],
   "source": [
    "samples = get_samples(\n",
    "    sources=[\n",
    "      ('tif', images_path),\n",
    "      ('shp', shapes_path),\n",
    "    ],\n",
    "    destinations=[\n",
    "      ('tif', masks_path),\n",
    "      ('tif', industrial_zones_path),\n",
    "    ]\n",
    ")\n",
    "\n",
    "print(f'Found {len(samples)} samples.')"
   ]
  },
  {
   "cell_type": "markdown",
   "metadata": {
    "colab_type": "text",
    "id": "6aoClbOm8vyO"
   },
   "source": [
    "## Create pixel masks\n",
    "\n",
    "Create masks, takes about 4 minutes for the 62 samples of approx 1GB (approx 10k x 10k x 12 channels)."
   ]
  },
  {
   "cell_type": "code",
   "execution_count": 0,
   "metadata": {
    "colab": {},
    "colab_type": "code",
    "id": "ArZr9jw6vDmN"
   },
   "outputs": [],
   "source": [
    "for (\n",
    "     sample,\n",
    "     image_filename, label_filename,\n",
    "     mask_filename, _) in progressbar(samples):\n",
    "\n",
    "  with rasterio.open(image_filename) as dataset:\n",
    "    mask_shape = (dataset.height, dataset.width)\n",
    "  \n",
    "  geojson = shapefile_to_pixel_geojson(image_filename, label_filename)\n",
    "  mask = draw_mask(mask_shape, geojson)\n",
    "  imsave(mask_filename, mask)"
   ]
  },
  {
   "cell_type": "markdown",
   "metadata": {
    "colab_type": "text",
    "id": "Snq5I3G-Ytl_"
   },
   "source": [
    "## Industrial zones\n",
    "\n",
    "There are a lot industrial zones, therefore we use bounding boxes to estimate whether an image and industrial zone could overlap. We use the lat/long system, since this was used for the industrial zones and there are a lot more of those, hence reducing calculation times."
   ]
  },
  {
   "cell_type": "markdown",
   "metadata": {
    "colab_type": "text",
    "id": "VrAANt5n-eEf"
   },
   "source": [
    "### Read industrial zones to geojson dict"
   ]
  },
  {
   "cell_type": "code",
   "execution_count": 0,
   "metadata": {
    "colab": {},
    "colab_type": "code",
    "id": "P6Ecvp8Y3apa"
   },
   "outputs": [],
   "source": [
    "industrial_zones = shapefile_to_geojson(industrial_zones_shape_path)"
   ]
  },
  {
   "cell_type": "markdown",
   "metadata": {
    "colab_type": "text",
    "id": "90f1ffxv-ig2"
   },
   "source": [
    "### Bounding boxes for images and industrial zones"
   ]
  },
  {
   "cell_type": "code",
   "execution_count": 0,
   "metadata": {
    "colab": {},
    "colab_type": "code",
    "id": "_fy0L15XZpJH"
   },
   "outputs": [],
   "source": [
    "def bounding_box(dataset, resolution=1000):\n",
    "  src_crs, dst_crs = dataset.crs, rasterio.crs.CRS.from_epsg(4326)\n",
    "\n",
    "  left, bottom, right, top = dataset.bounds\n",
    "  hor, ver = numpy.linspace(left, right, resolution), numpy.linspace(bottom, top, resolution)\n",
    "  coords = (\n",
    "      list(zip(*rasterio.warp.transform(src_crs, dst_crs, hor, [bottom] * resolution))) +\n",
    "      list(zip(*rasterio.warp.transform(src_crs, dst_crs, hor, [top] * resolution))) +\n",
    "      list(zip(*rasterio.warp.transform(src_crs, dst_crs, [left] * resolution, ver))) + \n",
    "      list(zip(*rasterio.warp.transform(src_crs, dst_crs, [right] * resolution, ver)))\n",
    "  )\n",
    "\n",
    "  def min_max(x):\n",
    "    return min(x), max(x)\n",
    "\n",
    "  (lon0, lon1), (lat0, lat1) = map(min_max, zip(*coords))\n",
    "  return (lon0, lat0, lon1, lat1)"
   ]
  },
  {
   "cell_type": "code",
   "execution_count": 0,
   "metadata": {
    "colab": {
     "base_uri": "https://localhost:8080/"
    },
    "colab_type": "code",
    "executionInfo": {
     "elapsed": 11035,
     "status": "ok",
     "timestamp": 1567361307748,
     "user": {
      "displayName": "Herbert Kruitbosch",
      "photoUrl": "https://lh3.googleusercontent.com/a-/AAuE7mC_tNhnYR_ex84Iv2aCpI_dvNfbvNrfPUr9X30V=s64",
      "userId": "17110111165934523596"
     },
     "user_tz": -120
    },
    "id": "Hqmlx5fKcSTc",
    "outputId": "7f094772-c0ef-4bd3-f359-c353fc151af1"
   },
   "outputs": [
    {
     "data": {
      "application/vnd.jupyter.widget-view+json": {
       "model_id": "e6b02cc285944df29468ec47f8ffb73e",
       "version_major": 2,
       "version_minor": 0
      },
      "text/plain": [
       "VBox(children=(HBox(children=(FloatProgress(value=0.0, max=1.0), HTML(value='<b>0</b>s passed', placeholder='0…"
      ]
     },
     "metadata": {
      "tags": []
     },
     "output_type": "display_data"
    }
   ],
   "source": [
    "sample_boxes = []\n",
    "\n",
    "for sample in ProgressBar(samples):\n",
    "  image_filename = f'{image_path}/{sample}.tif'\n",
    "  with rasterio.open(image_filename) as dataset:\n",
    "    sample_boxes.append(box(*bounding_box(dataset)))"
   ]
  },
  {
   "cell_type": "code",
   "execution_count": 0,
   "metadata": {
    "colab": {},
    "colab_type": "code",
    "id": "iZOc0QdG23C-"
   },
   "outputs": [],
   "source": [
    "def map_coords(coords, op=min):\n",
    "  \"\"\"Map `op` on a list of lists of ... lists of two floats, hence a\n",
    "  polygon-like coordinate structure. Returns two floats.\"\"\"\n",
    "  if len(coords) == 2 and type(coords[0]) == float:\n",
    "    return coords\n",
    "  else:\n",
    "    coords = [map_coords(coords, op) for coords in coords]\n",
    "    return tuple(\n",
    "        op(c[i] for c in coords)\n",
    "        for i in [0, 1]\n",
    "    )"
   ]
  },
  {
   "cell_type": "code",
   "execution_count": 0,
   "metadata": {
    "colab": {},
    "colab_type": "code",
    "id": "IxqF7bNp7qXY"
   },
   "outputs": [],
   "source": [
    "industrial_zone_boxes = []\n",
    "\n",
    "for feature in industrial_zones:\n",
    "  x0, y0 = map_coords(feature['geometry']['coordinates'], min)\n",
    "  x1, y1 = map_coords(feature['geometry']['coordinates'], max)\n",
    "\n",
    "  industrial_zone_boxes.append(\n",
    "    box(x0, y0, x1, y1)\n",
    "  )"
   ]
  },
  {
   "cell_type": "markdown",
   "metadata": {
    "colab_type": "text",
    "id": "tZDMY1tW-oqv"
   },
   "source": [
    "### Calculations\n",
    "\n",
    "One or two minutes"
   ]
  },
  {
   "cell_type": "code",
   "execution_count": 0,
   "metadata": {
    "colab": {},
    "colab_type": "code",
    "id": "r30LznRwHik2"
   },
   "outputs": [],
   "source": [
    "for sample, sample_bbox in zip(ProgressBar(samples), sample_boxes):\n",
    "  image_filename = f'{image_path}/{sample}.tif'\n",
    "  \n",
    "  with rasterio.open(image_filename) as dataset:\n",
    "    mask_shape = (dataset.height, dataset.width)\n",
    "    coordinate_to_pixel = ~dataset.transform\n",
    "    src_crs, dst_crs = dataset.crs, rasterio.crs.CRS.from_epsg(4326)\n",
    "\n",
    "  def transform(poly):\n",
    "    if all(\n",
    "        len(item) == 2 and all(\n",
    "            isinstance(item, numbers.Number) for item in item)\n",
    "        for item in poly\n",
    "    ):\n",
    "      return [\n",
    "          (x, y)  * coordinate_to_pixel\n",
    "          for x, y in zip(\n",
    "              *rasterio.warp.transform(dst_crs, src_crs, *zip(*poly)))\n",
    "      ]\n",
    "    return list(map(transform, poly))\n",
    "  \n",
    "  mask = numpy.zeros(mask_shape, numpy.uint8)\n",
    "  intersects = 0\n",
    "  for feature, feature_bbox in zip(industrial_zones, industrial_zone_boxes):\n",
    "    if not sample_bbox.intersects(feature_bbox):\n",
    "      continue\n",
    "    \n",
    "    intersects += 1\n",
    "    pixel_geometry = {\n",
    "        'type': feature['geometry']['type'],\n",
    "        'coordinates': transform(feature['geometry']['coordinates'])\n",
    "    }\n",
    "    \n",
    "    for ext in iter_exteriors(shape(pixel_geometry)):\n",
    "      xs, ys = map(numpy.array, ext.xy)\n",
    "      pts = numpy.round(numpy.concatenate([\n",
    "          xs[None, :, None],\n",
    "          ys[None, :, None]\n",
    "      ], axis=2)).astype(numpy.int64)\n",
    "\n",
    "      cv2.fillPoly(mask, pts, 1)\n",
    "  imsave(f'{industrial_zones_path}/{sample}.tif', mask)"
   ]
  },
  {
   "cell_type": "markdown",
   "metadata": {
    "colab_type": "text",
    "id": "VM9Qr-XB-6bx"
   },
   "source": [
    "### Examples\n",
    "\n",
    "Nine random cutout for 5 random images."
   ]
  },
  {
   "cell_type": "code",
   "execution_count": 0,
   "metadata": {
    "colab": {
     "base_uri": "https://localhost:8080/",
     "height": 1000,
     "output_embedded_package_id": "1j9qhamv4ctJV7T_SpIbr33X0anfPoENa"
    },
    "colab_type": "code",
    "executionInfo": {
     "elapsed": 193293,
     "status": "ok",
     "timestamp": 1567364052364,
     "user": {
      "displayName": "Herbert Kruitbosch",
      "photoUrl": "https://lh3.googleusercontent.com/a-/AAuE7mC_tNhnYR_ex84Iv2aCpI_dvNfbvNrfPUr9X30V=s64",
      "userId": "17110111165934523596"
     },
     "user_tz": -120
    },
    "id": "pN1AbCZAIXe0",
    "outputId": "57f0b1c8-8e89-46d1-db67-5988a047bed6"
   },
   "outputs": [
    {
     "data": {
      "text/plain": [
       "Output hidden; open in https://colab.research.google.com to view."
      ]
     },
     "metadata": {},
     "output_type": "display_data"
    }
   ],
   "source": [
    "for idx in numpy.random.choice(len(samples), 5, replace=False):\n",
    "  sample = samples[idx]\n",
    "  \n",
    "  im = imread(f'{image_path}/{sample}.tif')\n",
    "  mask = imread(f'{industrial_zones_path}/{sample}.tif')\n",
    "  w = 256\n",
    "  ys, xs = numpy.where((im > 0).min(axis=2) & (mask > 0))\n",
    "  xs = numpy.clip(xs, w, mask.shape[1] - w)\n",
    "  ys = numpy.clip(ys, w, mask.shape[0] - w)\n",
    "  subsample = numpy.random.choice(len(ys), len(axes), replace=False)\n",
    "\n",
    "  s = sorted(im[..., 1:4].ravel()[::100000])\n",
    "  t = s[int(0.95 * len(s))]\n",
    "\n",
    "  fig, axes = pyplot.subplots(5, 3, figsize=(23, 30))\n",
    "  fig.suptitle(sample)\n",
    "  axes = axes.ravel()\n",
    "\n",
    "  for axis, x, y in zip(axes, xs[subsample], ys[subsample]):\n",
    "    region = tuple([slice(i-w, i+w) for i in [y, x]])\n",
    "    \n",
    "    rgb = im[region][..., [3,2,1]] / t\n",
    "    rgb = numpy.clip(rgb, 0, 1)\n",
    "    axis.imshow(rgb)\n",
    "    \n",
    "    overlay = (mask[region][..., None] > 0).astype(numpy.float32)\n",
    "    nothing = numpy.ones_like(overlay)\n",
    "    overlay = numpy.dstack([overlay, 0*nothing, 0*nothing, 0.7*nothing])\n",
    "    axis.imshow(overlay)"
   ]
  },
  {
   "cell_type": "markdown",
   "metadata": {
    "colab_type": "text",
    "id": "1npoGNs1o4fN"
   },
   "source": [
    "### Industry recall (and precision)\n",
    "\n",
    "The assumption is that we are only intested in buildings in instrustial areas. Therefore it is insightfull to know whether there are building areas outside of the industrial zones (indicated by recall < 1) and how much of the industrial areas are labeled buildings."
   ]
  },
  {
   "cell_type": "code",
   "execution_count": 0,
   "metadata": {
    "colab": {
     "base_uri": "https://localhost:8080/",
     "height": 17
    },
    "colab_type": "code",
    "executionInfo": {
     "elapsed": 175281,
     "status": "ok",
     "timestamp": 1567372302736,
     "user": {
      "displayName": "Herbert Kruitbosch",
      "photoUrl": "https://lh3.googleusercontent.com/a-/AAuE7mC_tNhnYR_ex84Iv2aCpI_dvNfbvNrfPUr9X30V=s64",
      "userId": "17110111165934523596"
     },
     "user_tz": -120
    },
    "id": "frfsiSqTo7Xu",
    "outputId": "e0362ed9-c99b-4805-d41b-0d41c6b51f02"
   },
   "outputs": [
    {
     "data": {
      "application/vnd.jupyter.widget-view+json": {
       "model_id": "4a96443f88e042eda277510154b0b0f4",
       "version_major": 2,
       "version_minor": 0
      },
      "text/plain": [
       "VBox(children=(HBox(children=(FloatProgress(value=0.0, max=1.0), HTML(value='<b>0</b>s passed', placeholder='0…"
      ]
     },
     "metadata": {
      "tags": []
     },
     "output_type": "display_data"
    }
   ],
   "source": [
    "# fp, tp, fn, tn = 0, 0, 0, 0\n",
    "# for sample in ProgressBar(samples):\n",
    "#   label = imread(f'{mask_path}/{sample}.tif') > 0\n",
    "#   industry = imread(f'{industrial_zones_path}/{sample}.tif') > 0\n",
    "#   fp += (~label &  industry).sum()\n",
    "#   tp += ( label &  industry).sum()\n",
    "#   fn += ( label & ~industry).sum()\n",
    "#   tn += (~label & ~industry).sum()\n",
    "  \n",
    "fp, tp, fn, tn = 134046546, 7119565, 4166758, 7329411931"
   ]
  },
  {
   "cell_type": "code",
   "execution_count": 0,
   "metadata": {
    "colab": {
     "base_uri": "https://localhost:8080/",
     "height": 51
    },
    "colab_type": "code",
    "executionInfo": {
     "elapsed": 495,
     "status": "ok",
     "timestamp": 1567372308245,
     "user": {
      "displayName": "Herbert Kruitbosch",
      "photoUrl": "https://lh3.googleusercontent.com/a-/AAuE7mC_tNhnYR_ex84Iv2aCpI_dvNfbvNrfPUr9X30V=s64",
      "userId": "17110111165934523596"
     },
     "user_tz": -120
    },
    "id": "OmaTDkV1qLnp",
    "outputId": "e7c048c0-b907-4bf6-bf99-f1025c1cfb15"
   },
   "outputs": [
    {
     "name": "stdout",
     "output_type": "stream",
     "text": [
      "recall:    0.6308135076410626\n",
      "precision: 0.05043395294781479\n"
     ]
    }
   ],
   "source": [
    "print(f'recall:    {tp / (tp + fn)}')\n",
    "print(f'precision: {tp / (tp + fp)}')"
   ]
  }
 ],
 "metadata": {
  "accelerator": "GPU",
  "colab": {
   "collapsed_sections": [
    "nTLAmVJUoLUs",
    "tZDMY1tW-oqv",
    "VM9Qr-XB-6bx"
   ],
   "machine_shape": "hm",
   "name": "Create Training Data masks.ipynb",
   "provenance": []
  },
  "kernelspec": {
   "display_name": "Python 3",
   "language": "python",
   "name": "python3"
  },
  "language_info": {
   "codemirror_mode": {
    "name": "ipython",
    "version": 3
   },
   "file_extension": ".py",
   "mimetype": "text/x-python",
   "name": "python",
   "nbconvert_exporter": "python",
   "pygments_lexer": "ipython3",
   "version": "3.6.7"
  }
 },
 "nbformat": 4,
 "nbformat_minor": 1
}
